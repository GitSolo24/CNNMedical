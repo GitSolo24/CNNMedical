{
  "nbformat": 4,
  "nbformat_minor": 0,
  "metadata": {
    "colab": {
      "provenance": []
    },
    "kernelspec": {
      "name": "python3",
      "display_name": "Python 3"
    },
    "language_info": {
      "name": "python"
    },
    "accelerator": "GPU",
    "gpuClass": "standard"
  },
  "cells": [
    {
      "cell_type": "markdown",
      "source": [
        "# ELEG 6318-P01 - Lab 3 - Convolutional Neural Networks (CNN)\n",
        "\n",
        "- Goal: Image Classification on CIFAR-10 (https://www.cs.toronto.edu/~kriz/cifar.html)\n",
        "\n",
        "- Structure: CONV1(16, (3\\*3))-Relu1-Maxpooling1(2\\*2)-Dropout1(0.25)-CONV2(32, (3\\*3))\n",
        "-Relu2-Maxpooling2(2*2)-Dropout2(0.25)-Dense(512)-Relu3- Dropout3(0.5)-Output(Softmax)"
      ],
      "metadata": {
        "id": "wxC3vx7gEdq1"
      }
    },
    {
      "cell_type": "code",
      "execution_count": null,
      "metadata": {
        "id": "Xm6JY_YsEUsY"
      },
      "outputs": [],
      "source": [
        "#import packages\n",
        "from __future__ import print_function\n",
        "import keras\n",
        "from keras.datasets import cifar10\n",
        "from keras.preprocessing.image import ImageDataGenerator\n",
        "from keras.models import Sequential\n",
        "from keras.layers import Dense, Dropout, Activation, Flatten\n",
        "from keras.layers import Conv2D, MaxPooling2D\n",
        "import os"
      ]
    },
    {
      "cell_type": "code",
      "source": [
        "# setting hyper-parameters\n",
        "batch_size = 32\n",
        "num_classes = 10\n",
        "epochs = 10"
      ],
      "metadata": {
        "id": "hbOOqy1hEtCD"
      },
      "execution_count": null,
      "outputs": []
    },
    {
      "cell_type": "code",
      "source": [
        "# The data, split between train and test sets:\n",
        "(x_train, y_train), (x_test, y_test) = cifar10.load_data()\n",
        "\n",
        "print('x_train shape:', x_train.shape)\n",
        "print(x_train.shape[0], 'train samples')\n",
        "print(x_test.shape[0], 'test samples')"
      ],
      "metadata": {
        "colab": {
          "base_uri": "https://localhost:8080/"
        },
        "id": "emo-OEiKEx_N",
        "outputId": "09478959-dae5-4b1f-9a92-11465d5ea884"
      },
      "execution_count": null,
      "outputs": [
        {
          "output_type": "stream",
          "name": "stdout",
          "text": [
            "Downloading data from https://www.cs.toronto.edu/~kriz/cifar-10-python.tar.gz\n",
            "170498071/170498071 [==============================] - 4s 0us/step\n",
            "x_train shape: (50000, 32, 32, 3)\n",
            "50000 train samples\n",
            "10000 test samples\n"
          ]
        }
      ]
    },
    {
      "cell_type": "code",
      "source": [
        "# Convert class vectors to binary class matrices.\n",
        "# For example, for three classes, [0,0,1] -> 0, [0,1,0] -> 1, [1,0,0] -> 2 \n",
        "y_train = keras.utils.to_categorical(y_train, num_classes)\n",
        "y_test = keras.utils.to_categorical(y_test, num_classes)"
      ],
      "metadata": {
        "id": "izj2ROeNE7OT"
      },
      "execution_count": null,
      "outputs": []
    },
    {
      "cell_type": "code",
      "source": [
        "#building a CNN model\n",
        "model = Sequential()\n",
        "model.add(Conv2D(16, (3, 3), padding='same',\n",
        "                 input_shape=x_train.shape[1:]))\n",
        "model.add(Activation('relu'))\n",
        "model.add(MaxPooling2D(pool_size=(2, 2)))\n",
        "model.add(Dropout(0.25))\n",
        "\n",
        "model.add(Conv2D(32, (3, 3), padding='same'))\n",
        "model.add(Activation('relu'))\n",
        "model.add(MaxPooling2D(pool_size=(2, 2)))\n",
        "model.add(Dropout(0.25))\n",
        "\n",
        "model.add(Flatten())\n",
        "model.add(Dense(512))\n",
        "model.add(Activation('relu'))\n",
        "model.add(Dropout(0.5))\n",
        "model.add(Dense(num_classes))\n",
        "model.add(Activation('softmax'))\n",
        "\n",
        "# initiate RMSprop optimizer\n",
        "opt = keras.optimizers.RMSprop(lr=0.0001, decay=1e-6)\n",
        "\n",
        "# Let's train the model using RMSprop\n",
        "model.compile(loss='categorical_crossentropy',\n",
        "              optimizer=opt,\n",
        "              metrics=['accuracy'])"
      ],
      "metadata": {
        "colab": {
          "base_uri": "https://localhost:8080/"
        },
        "id": "rJ9z-uvGE8i7",
        "outputId": "3cfb15da-2f3a-4626-96cf-c90b7a3a7eaa"
      },
      "execution_count": null,
      "outputs": [
        {
          "output_type": "stream",
          "name": "stderr",
          "text": [
            "/usr/local/lib/python3.9/dist-packages/keras/optimizers/optimizer_v2/rmsprop.py:143: UserWarning: The `lr` argument is deprecated, use `learning_rate` instead.\n",
            "  super().__init__(name, **kwargs)\n"
          ]
        }
      ]
    },
    {
      "cell_type": "code",
      "source": [
        "#preprocessing data\n",
        "x_train = x_train.astype('float32')\n",
        "x_test = x_test.astype('float32')\n",
        "\n",
        "#Normalization\n",
        "x_train /= 255\n",
        "x_test /= 255"
      ],
      "metadata": {
        "id": "5mEDh06vFBoK"
      },
      "execution_count": null,
      "outputs": []
    },
    {
      "cell_type": "code",
      "source": [
        "#Training\n",
        "model.fit(x_train, y_train,\n",
        "              batch_size=batch_size,\n",
        "              epochs=epochs,\n",
        "              validation_data=(x_test, y_test),\n",
        "              shuffle=True)"
      ],
      "metadata": {
        "colab": {
          "base_uri": "https://localhost:8080/"
        },
        "id": "E6iqlCUPFFqd",
        "outputId": "22688b03-5aac-46c6-d978-b14d3840f7e9"
      },
      "execution_count": null,
      "outputs": [
        {
          "output_type": "stream",
          "name": "stdout",
          "text": [
            "Epoch 1/10\n",
            "1563/1563 [==============================] - 21s 6ms/step - loss: 1.8874 - accuracy: 0.3152 - val_loss: 1.6508 - val_accuracy: 0.4209\n",
            "Epoch 2/10\n",
            "1563/1563 [==============================] - 8s 5ms/step - loss: 1.6238 - accuracy: 0.4160 - val_loss: 1.5163 - val_accuracy: 0.4703\n",
            "Epoch 3/10\n",
            "1563/1563 [==============================] - 8s 5ms/step - loss: 1.5225 - accuracy: 0.4524 - val_loss: 1.4215 - val_accuracy: 0.5074\n",
            "Epoch 4/10\n",
            "1563/1563 [==============================] - 9s 6ms/step - loss: 1.4369 - accuracy: 0.4846 - val_loss: 1.3363 - val_accuracy: 0.5359\n",
            "Epoch 5/10\n",
            "1563/1563 [==============================] - 8s 5ms/step - loss: 1.3740 - accuracy: 0.5088 - val_loss: 1.2732 - val_accuracy: 0.5532\n",
            "Epoch 6/10\n",
            "1563/1563 [==============================] - 8s 5ms/step - loss: 1.3247 - accuracy: 0.5295 - val_loss: 1.2390 - val_accuracy: 0.5669\n",
            "Epoch 7/10\n",
            "1563/1563 [==============================] - 9s 6ms/step - loss: 1.2854 - accuracy: 0.5453 - val_loss: 1.2039 - val_accuracy: 0.5862\n",
            "Epoch 8/10\n",
            "1563/1563 [==============================] - 9s 5ms/step - loss: 1.2509 - accuracy: 0.5604 - val_loss: 1.1727 - val_accuracy: 0.5937\n",
            "Epoch 9/10\n",
            "1563/1563 [==============================] - 8s 5ms/step - loss: 1.2172 - accuracy: 0.5699 - val_loss: 1.1451 - val_accuracy: 0.6007\n",
            "Epoch 10/10\n",
            "1563/1563 [==============================] - 9s 5ms/step - loss: 1.1953 - accuracy: 0.5792 - val_loss: 1.1278 - val_accuracy: 0.6154\n"
          ]
        },
        {
          "output_type": "execute_result",
          "data": {
            "text/plain": [
              "<keras.callbacks.History at 0x7f377835c520>"
            ]
          },
          "metadata": {},
          "execution_count": 7
        }
      ]
    },
    {
      "cell_type": "code",
      "source": [
        "# Testing.\n",
        "scores = model.evaluate(x_test, y_test, verbose=1)\n",
        "print('Test loss:', scores[0])\n",
        "print('Test accuracy:', scores[1])\n"
      ],
      "metadata": {
        "colab": {
          "base_uri": "https://localhost:8080/"
        },
        "id": "12BuitU3FR0h",
        "outputId": "47bf67ef-3c60-4fda-c345-b8db86e96752"
      },
      "execution_count": null,
      "outputs": [
        {
          "output_type": "stream",
          "name": "stdout",
          "text": [
            "313/313 [==============================] - 1s 3ms/step - loss: 1.1278 - accuracy: 0.6154\n",
            "Test loss: 1.1277804374694824\n",
            "Test accuracy: 0.6154000163078308\n"
          ]
        }
      ]
    }
  ]
}